{
 "cells": [
  {
   "cell_type": "code",
   "execution_count": 5,
   "id": "222c50b9-bbcc-4a68-8069-cf0a25d2457b",
   "metadata": {},
   "outputs": [],
   "source": [
    "import re"
   ]
  },
  {
   "cell_type": "code",
   "execution_count": 6,
   "id": "9f39aa1e-240f-4a40-800d-d3dc6916ca3e",
   "metadata": {},
   "outputs": [],
   "source": [
    "rules={\n",
    "    \"I am very appreciated\":\"I appreciate a lot\",\n",
    "    \"I Hope you too, to enjoy\":\"I hope you enjoy\",\n",
    "    \"I believe the team\":\"I trust the team\",\n",
    "    \"During our final discuss\":\"During our final discussion\",\n",
    "    \"all are safe\":\"everything is safe\"\n",
    "\n",
    "}"
   ]
  },
  {
   "cell_type": "code",
   "execution_count": 7,
   "id": "0cf832bc-8598-4071-9154-e96fb49fd5aa",
   "metadata": {},
   "outputs": [],
   "source": [
    "def reFORM_text(sentence):\n",
    "    recon_sentence = sentence\n",
    "    for pattern,replacement in rules.items():\n",
    "        recon_sentence=re.sub(re.escape(pattern),replacement,recon_sentence,flags=re.IGNORECASE)\n",
    "    return recon_sentence"
   ]
  },
  {
   "cell_type": "code",
   "execution_count": 8,
   "id": "5527443c-3dae-4a6f-93cb-1833161f75cb",
   "metadata": {},
   "outputs": [],
   "source": [
    "text1 = \"I am very appreciated the full support of theprofessor, for our Springer proceedings publication\"\n",
    "text2=\"Overall, let us make sure all are safe and celebrate the outcome with strong coffee and future targets\""
   ]
  },
  {
   "cell_type": "code",
   "execution_count": 9,
   "id": "54ec9669-6c59-4b85-9694-fcf3a47bc427",
   "metadata": {},
   "outputs": [
    {
     "name": "stdout",
     "output_type": "stream",
     "text": [
      "I appreciate a lot the full support of theprofessor, for our Springer proceedings publication\n",
      "Overall, let us make sure everything is safe and celebrate the outcome with strong coffee and future targets\n"
     ]
    }
   ],
   "source": [
    "print(reFORM_text(text1))\n",
    "print(reFORM_text(text2))"
   ]
  },
  {
   "cell_type": "code",
   "execution_count": null,
   "id": "b5407985-32f8-40d2-aaca-01ede093a46e",
   "metadata": {},
   "outputs": [],
   "source": []
  }
 ],
 "metadata": {
  "kernelspec": {
   "display_name": "Python 3 (ipykernel)",
   "language": "python",
   "name": "python3"
  },
  "language_info": {
   "codemirror_mode": {
    "name": "ipython",
    "version": 3
   },
   "file_extension": ".py",
   "mimetype": "text/x-python",
   "name": "python",
   "nbconvert_exporter": "python",
   "pygments_lexer": "ipython3",
   "version": "3.12.4"
  }
 },
 "nbformat": 4,
 "nbformat_minor": 5
}
