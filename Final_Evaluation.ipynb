{
 "cells": [
  {
   "cell_type": "code",
   "execution_count": null,
   "id": "bffb4b3d-f437-47d6-9d76-ae615238c26e",
   "metadata": {},
   "outputs": [],
   "source": [
    "Pipeline\tspaCy\tGloVe\tWord2Vec\tFastText\tBERT\tCustom NLP Workflow\n",
    "BART\t    0.6288\t0.9449\t0.7075\t    0.9409\t   0.5535\t    0.5025\n",
    "PEGASUS\t    0.8871\t0.9961\t0.9703\t    0.9891\t   0.7866\t    0.7918\n",
    "T5\t        0.8427\t0.9911\t0.9077\t    0.9857\t   0.5155\t    0.5819"
   ]
  },
  {
   "cell_type": "code",
   "execution_count": null,
   "id": "24013508-2c13-4e37-9609-0e836e46710b",
   "metadata": {},
   "outputs": [],
   "source": [
    "Paraphrase απο bart-large:The author received the approved version of the manuscript a few days ago. \n",
    "The manuscript was submitted to Springer for publication last week.\n",
    "The author says he is grateful for the full support of the Springer team."
   ]
  },
  {
   "cell_type": "code",
   "execution_count": null,
   "id": "0364c6a0-5f28-45bd-b959-7873fa574c4b",
   "metadata": {},
   "outputs": [],
   "source": [
    "Paraphrase απο PEGASUS:Thank your message to show our words to the doctor, as his next contract checking, to all of us.\n",
    "I am very appreciated the full support of the professor, for our Springer proceedings publication “During our final discuss,\n",
    "I told him about the new submission — the one we were waiting since last autumn, \n",
    "but the updates was confusing as it not included the complete feedback from reviewer or maybe editor?\n",
    "Anyway,I believe the team, although bit delay and less communication at recent days, they really"
   ]
  },
  {
   "cell_type": "code",
   "execution_count": null,
   "id": "58e2e314-97b1-4d4e-89e5-7e93b3455cca",
   "metadata": {},
   "outputs": [],
   "source": [
    "Paraphrase απο T5:Falkenstein: today is our dragon boat festival, in our Chinese culture, to celebrate it with all safe and great . \n",
    "I am very grateful, all of us, for the acceptance and efforts until the Springer link came finally last week,\n",
    "I think."
   ]
  },
  {
   "cell_type": "code",
   "execution_count": null,
   "id": "1e6f89a1-15c5-47c5-a2af-3e56e03a50c0",
   "metadata": {},
   "outputs": [],
   "source": [
    "Το pipine bart-large εδωσε την πιο \"καθαρη\" και λογικη περιληψη,παραλειποντας ωστοσο πολλες πληροφοριες(κυριψς απο κειμενο 2)\n",
    "Το pegasus έδωσε την πιο αναλυτικη, αλλα και την μεγαλυτερη και οχι απαραιτητα λογικη.\n",
    "Το t5 εδωσε την πιο συντομη αλλα κανοντας λαθη(προσθηκη token falkenstein που δεν υπηρχε στα αρχικα κειμενα)."
   ]
  },
  {
   "cell_type": "code",
   "execution_count": null,
   "id": "12cd46c3-f456-4639-bf85-c043496df801",
   "metadata": {},
   "outputs": [],
   "source": [
    "Το PEGASUS είναι ξεκάθαρα το πιο αξιόπιστο pipeline, διατηρώντας υψηλή ομοιότητα σε όλες τις μεθόδους.\n",
    "\n",
    "Το T5 bsae είναι καλύτερο με GloVe και FastText, αλλά εμφανίζει χαμηλή ομοιότητα σε BERT και με το custom workflow μας.\n",
    "\n",
    "Το BART έχει καλές τιμές με GloVe/FastText, μέτριες με spaCy/Word2Vec, και χαμηλές με BERT/custom.\n",
    "\n",
    "Το custom workflow είχε γενικά τις χαμηλότερες τιμές και ήταν το λιγότερο αποδοτικό.\n",
    "\n",
    "Συμπέρασμα: Το PEGASUS είναι η καλύτερη επιλογή τόσο  για τη διατήρηση του νοήματος όσο και για τηνσυνολική ποιότητα paraphrase,\n",
    "ανεξαρτήτως της embedding μεθόδου."
   ]
  },
  {
   "cell_type": "code",
   "execution_count": null,
   "id": "ceba7efa-0c70-4525-8f51-6144e34d2fdb",
   "metadata": {},
   "outputs": [],
   "source": [
    "Δημοσιευσεις και πηγες :\n",
    "BART-https://arxiv.org/abs/1910.13461\n",
    "PEGASUS-https://arxiv.org/abs/1912.08777\n",
    "t5-https://arxiv.org/abs/1910.10683\n",
    "spaCy-https://spacy.io/\n",
    "GloVe-https://aclanthology.org/D14-1162/\n",
    "\n"
   ]
  }
 ],
 "metadata": {
  "kernelspec": {
   "display_name": "Python 3 (ipykernel)",
   "language": "python",
   "name": "python3"
  },
  "language_info": {
   "codemirror_mode": {
    "name": "ipython",
    "version": 3
   },
   "file_extension": ".py",
   "mimetype": "text/x-python",
   "name": "python",
   "nbconvert_exporter": "python",
   "pygments_lexer": "ipython3",
   "version": "3.12.4"
  }
 },
 "nbformat": 4,
 "nbformat_minor": 5
}
