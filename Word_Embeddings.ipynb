{
 "cells": [
  {
   "cell_type": "code",
   "execution_count": 34,
   "id": "ac84499e-2f08-49b0-a5b6-10aeeedb032a",
   "metadata": {},
   "outputs": [],
   "source": [
    "import spacy,gensim.downloader as api,numpy as np,matplotlib.pyplot as plt\n",
    "from sklearn.manifold import TSNE\n",
    "from sklearn.metrics.pairwise import cosine_similarity\n",
    "from sentence_transformers import SentenceTransformer, util\n",
    "from sklearn.feature_extraction.text import TfidfVectorizer\n",
    "\n"
   ]
  },
  {
   "cell_type": "code",
   "execution_count": 7,
   "id": "772b4265-0e9a-4938-b472-76553e52e719",
   "metadata": {},
   "outputs": [],
   "source": [
    "paraphrase_bart_large=\"\"\"The author received the approved version of the manuscript a few days ago. \n",
    "The manuscript was submitted to Springer for publication last week.\n",
    "The author says he is grateful for the full support of the Springer team.\"\"\""
   ]
  },
  {
   "cell_type": "code",
   "execution_count": 10,
   "id": "21203a41-39f3-4d31-ba0b-5f3a8bbb5072",
   "metadata": {},
   "outputs": [],
   "source": [
    "paraphrase_pegasus=\"\"\"Thank your message to show our words to the doctor, as his next contract checking, to all of us.\n",
    "I am very appreciated the full support of the professor, for our Springer proceedings publication “During our final discuss,\n",
    "I told him about the new submission — the one we were waiting since last autumn, \n",
    "but the updates was confusing as it not included the complete feedback from reviewer or maybe editor?\n",
    "Anyway,I believe the team, although bit delay and less communication at recent days, they really\"\"\""
   ]
  },
  {
   "cell_type": "code",
   "execution_count": 11,
   "id": "d9e610a3-16cb-45a1-8a78-8f748878b7f8",
   "metadata": {},
   "outputs": [],
   "source": [
    "paraphrase_t5_base=\"\"\"Falkenstein: today is our dragon boat festival, in our Chinese culture, to celebrate it with all safe and great . \n",
    "I am very grateful, all of us, for the acceptance and efforts until the Springer link came finally last week,\n",
    "I think. \"\"\""
   ]
  },
  {
   "cell_type": "code",
   "execution_count": 6,
   "id": "6242e1b1-590f-4efa-baa7-d8e9c935727c",
   "metadata": {},
   "outputs": [],
   "source": [
    "concatinated_texts = \"\"\"Today is our dragon boat festival, in our Chinese culture, to celebrate it with all safe and great in\n",
    "our lives. Hope you too, to enjoy it as my deepest wishes.\n",
    "Thank your message to show our words to the doctor, as his next contract checking, to all of us.\n",
    "I got this message to see the approved message. In fact, I have received the message from the\n",
    "professor, to show me, this, a couple of days ago. I am very appreciated the full support of the\n",
    "professor, for our Springer proceedings publication\n",
    "“During our final discuss, I told him about the new submission — the one we were waiting since\n",
    "last autumn, but the updates was confusing as it not included the full feedback from reviewer or\n",
    "maybe editor?Anyway, I believe the team, although bit delay and less communication at recent days, they really\n",
    "tried best for paper and cooperation. We should be grateful, I mean all of us, for the acceptance\n",
    "and efforts until the Springer link came finally last week, I think.\n",
    "Also, kindly remind me please, if the doctor still plan for the acknowledgments section edit before\n",
    "he sending again. Because I didn’t see that part final yet, or maybe I missed, I apologize if so.\n",
    "Overall, let us make sure all are safe and celebrate the outcome with strong coffee and future\n",
    "targets”\n",
    "\"\"\""
   ]
  },
  {
   "cell_type": "code",
   "execution_count": 14,
   "id": "6dfd4a92-e054-4d82-9665-92992207fe36",
   "metadata": {},
   "outputs": [
    {
     "name": "stdout",
     "output_type": "stream",
     "text": [
      "BART similarity: 0.628777265548706\n",
      "PEGASUS similarity: 0.8871038556098938\n",
      "T5 similarity: 0.8427485227584839\n"
     ]
    },
    {
     "name": "stderr",
     "output_type": "stream",
     "text": [
      "C:\\Users\\liste\\AppData\\Local\\Temp\\ipykernel_14956\\548575570.py:8: UserWarning: [W007] The model you're using has no word vectors loaded, so the result of the Doc.similarity method will be based on the tagger, parser and NER, which may not give useful similarity judgements. This may happen if you're using one of the small models, e.g. `en_core_web_sm`, which don't ship with word vectors and only use context-sensitive tensors. You can always add your own word vectors, or use one of the larger models instead if available.\n",
      "  print(\"BART similarity:\", nlp_txt.similarity(bart_large_nlp))\n",
      "C:\\Users\\liste\\AppData\\Local\\Temp\\ipykernel_14956\\548575570.py:9: UserWarning: [W007] The model you're using has no word vectors loaded, so the result of the Doc.similarity method will be based on the tagger, parser and NER, which may not give useful similarity judgements. This may happen if you're using one of the small models, e.g. `en_core_web_sm`, which don't ship with word vectors and only use context-sensitive tensors. You can always add your own word vectors, or use one of the larger models instead if available.\n",
      "  print(\"PEGASUS similarity:\", nlp_txt.similarity(pegasus_nlp))\n",
      "C:\\Users\\liste\\AppData\\Local\\Temp\\ipykernel_14956\\548575570.py:10: UserWarning: [W007] The model you're using has no word vectors loaded, so the result of the Doc.similarity method will be based on the tagger, parser and NER, which may not give useful similarity judgements. This may happen if you're using one of the small models, e.g. `en_core_web_sm`, which don't ship with word vectors and only use context-sensitive tensors. You can always add your own word vectors, or use one of the larger models instead if available.\n",
      "  print(\"T5 similarity:\", nlp_txt.similarity(t5_nlp))\n"
     ]
    }
   ],
   "source": [
    "nlp = spacy.load(\"en_core_web_sm\")\n",
    "\n",
    "nlp_txt = nlp(concatinated_texts)\n",
    "bart_large_nlp = nlp(paraphrase_bart_large)\n",
    "pegasus_nlp = nlp(paraphrase_pegasus)\n",
    "t5_nlp = nlp(paraphrase_t5_base)\n",
    "\n",
    "print(\"BART similarity:\", nlp_txt.similarity(bart_large_nlp))\n",
    "print(\"PEGASUS similarity:\", nlp_txt.similarity(pegasus_nlp))\n",
    "print(\"T5 similarity:\", nlp_txt.similarity(t5_nlp))"
   ]
  },
  {
   "cell_type": "code",
   "execution_count": 22,
   "id": "6db44cba-0050-4299-a208-2b9b5fbd989d",
   "metadata": {},
   "outputs": [
    {
     "name": "stdout",
     "output_type": "stream",
     "text": [
      "Cosine similarity (GloVe,Bart-large): 0.9449013\n",
      "Cosine similarity (GloVe,t5): 0.99111223\n",
      "Cosine similarity (GloVe,pegasus): 0.99610674\n",
      "Cosine similarity (Word2Vec,Bart-large): 0.7074824\n",
      "Cosine similarity (Word2Vec,t5): 0.90765077\n",
      "Cosine similarity (Word2Vec,pegasus): 0.9702511\n",
      "Cosine similarity (fast text,Bart-large): 0.940945\n",
      "Cosine similarity (fast text,t5): 0.9857428\n",
      "Cosine similarity (fast text,pegasus): 0.9890727\n"
     ]
    }
   ],
   "source": [
    "# φορτώνουμε προεκπαιδευμένα embeddings \n",
    "#Glove,Word2Vec,Fast_text cosine similarity\n",
    "glove = api.load(\"glove-wiki-gigaword-100\")\n",
    "word2vec = api.load(\"word2vec-google-news-300\")\n",
    "fasttext = api.load(\"fasttext-wiki-news-subwords-300\")\n",
    "\n",
    "def get_vector(word,model):\n",
    "    try:\n",
    "        return model[word]\n",
    "    except KeyError:\n",
    "        return np.zeros(model.vector_size)  # αν δεν υπάρχει η λέξη στο λεξιλόγιο\n",
    "\n",
    "def sentence_vector(sentence,model):\n",
    "    words = sentence.lower().split()\n",
    "    vectors = [get_vector(w,model) for w in words if w in model]\n",
    "    if len(vectors) == 0:\n",
    "        return np.zeros(model.vector_size)\n",
    "    return np.mean(vectors, axis=0)\n",
    "def cosine_sim(text1, text2, model):\n",
    "    vec1 = sentence_vector(text1, model).reshape(1, -1)\n",
    "    vec2 = sentence_vector(text2, model).reshape(1, -1)\n",
    "    return cosine_similarity(vec1, vec2)[0][0]\n",
    "#glove\n",
    "print(\"Cosine similarity (GloVe,Bart-large):\", cosine_sim(concatinated_texts,paraphrase_bart_large,glove))\n",
    "print(\"Cosine similarity (GloVe,t5):\", cosine_sim(concatinated_texts,paraphrase_t5_base,glove))\n",
    "print(\"Cosine similarity (GloVe,pegasus):\", cosine_sim(concatinated_texts,paraphrase_pegasus,glove))\n",
    "#Word2vec\n",
    "print(\"Cosine similarity (Word2Vec,Bart-large):\", cosine_sim(concatinated_texts,paraphrase_bart_large,word2vec))\n",
    "print(\"Cosine similarity (Word2Vec,t5):\", cosine_sim(concatinated_texts,paraphrase_t5_base,word2vec))\n",
    "print(\"Cosine similarity (Word2Vec,pegasus):\", cosine_sim(concatinated_texts,paraphrase_pegasus,word2vec))\n",
    "#fasttext\n",
    "print(\"Cosine similarity (fast text,Bart-large):\", cosine_sim(concatinated_texts,paraphrase_bart_large,fasttext))\n",
    "print(\"Cosine similarity (fast text,t5):\", cosine_sim(concatinated_texts,paraphrase_t5_base,fasttext))\n",
    "print(\"Cosine similarity (fast text,pegasus):\", cosine_sim(concatinated_texts,paraphrase_pegasus,fasttext))"
   ]
  },
  {
   "cell_type": "code",
   "execution_count": 17,
   "id": "3736378c-fd4a-48f6-a407-5bf284cbefbe",
   "metadata": {},
   "outputs": [
    {
     "data": {
      "application/vnd.jupyter.widget-view+json": {
       "model_id": "71503595f65945efa6ccb3ef83cdd8c5",
       "version_major": 2,
       "version_minor": 0
      },
      "text/plain": [
       "modules.json:   0%|          | 0.00/349 [00:00<?, ?B/s]"
      ]
     },
     "metadata": {},
     "output_type": "display_data"
    },
    {
     "name": "stderr",
     "output_type": "stream",
     "text": [
      "C:\\Users\\liste\\AppData\\Local\\Programs\\Python\\Python312\\Lib\\site-packages\\huggingface_hub\\file_download.py:143: UserWarning: `huggingface_hub` cache-system uses symlinks by default to efficiently store duplicated files but your machine does not support them in C:\\Users\\liste\\.cache\\huggingface\\hub\\models--sentence-transformers--all-MiniLM-L6-v2. Caching files will still work but in a degraded version that might require more space on your disk. This warning can be disabled by setting the `HF_HUB_DISABLE_SYMLINKS_WARNING` environment variable. For more details, see https://huggingface.co/docs/huggingface_hub/how-to-cache#limitations.\n",
      "To support symlinks on Windows, you either need to activate Developer Mode or to run Python as an administrator. In order to activate developer mode, see this article: https://docs.microsoft.com/en-us/windows/apps/get-started/enable-your-device-for-development\n",
      "  warnings.warn(message)\n"
     ]
    },
    {
     "data": {
      "application/vnd.jupyter.widget-view+json": {
       "model_id": "153cfb6e692d4b32bb62e03b68575823",
       "version_major": 2,
       "version_minor": 0
      },
      "text/plain": [
       "config_sentence_transformers.json:   0%|          | 0.00/116 [00:00<?, ?B/s]"
      ]
     },
     "metadata": {},
     "output_type": "display_data"
    },
    {
     "data": {
      "application/vnd.jupyter.widget-view+json": {
       "model_id": "dd0a1f961ac64a9d8e72df4764625fb0",
       "version_major": 2,
       "version_minor": 0
      },
      "text/plain": [
       "README.md: 0.00B [00:00, ?B/s]"
      ]
     },
     "metadata": {},
     "output_type": "display_data"
    },
    {
     "data": {
      "application/vnd.jupyter.widget-view+json": {
       "model_id": "d1fb412f6c1447adb3824c9beacaa980",
       "version_major": 2,
       "version_minor": 0
      },
      "text/plain": [
       "sentence_bert_config.json:   0%|          | 0.00/53.0 [00:00<?, ?B/s]"
      ]
     },
     "metadata": {},
     "output_type": "display_data"
    },
    {
     "data": {
      "application/vnd.jupyter.widget-view+json": {
       "model_id": "90e74110b43144a082dab438d9b6b893",
       "version_major": 2,
       "version_minor": 0
      },
      "text/plain": [
       "config.json:   0%|          | 0.00/612 [00:00<?, ?B/s]"
      ]
     },
     "metadata": {},
     "output_type": "display_data"
    },
    {
     "name": "stderr",
     "output_type": "stream",
     "text": [
      "Xet Storage is enabled for this repo, but the 'hf_xet' package is not installed. Falling back to regular HTTP download. For better performance, install the package with: `pip install huggingface_hub[hf_xet]` or `pip install hf_xet`\n"
     ]
    },
    {
     "data": {
      "application/vnd.jupyter.widget-view+json": {
       "model_id": "3ad1094563d442fca5d7d6b21379ad88",
       "version_major": 2,
       "version_minor": 0
      },
      "text/plain": [
       "model.safetensors:   0%|          | 0.00/90.9M [00:00<?, ?B/s]"
      ]
     },
     "metadata": {},
     "output_type": "display_data"
    },
    {
     "data": {
      "application/vnd.jupyter.widget-view+json": {
       "model_id": "912d8bfa9a9045d49b193c1a2a1f07a3",
       "version_major": 2,
       "version_minor": 0
      },
      "text/plain": [
       "tokenizer_config.json:   0%|          | 0.00/350 [00:00<?, ?B/s]"
      ]
     },
     "metadata": {},
     "output_type": "display_data"
    },
    {
     "data": {
      "application/vnd.jupyter.widget-view+json": {
       "model_id": "fb63d495eda24863ae98480ea4f18775",
       "version_major": 2,
       "version_minor": 0
      },
      "text/plain": [
       "vocab.txt: 0.00B [00:00, ?B/s]"
      ]
     },
     "metadata": {},
     "output_type": "display_data"
    },
    {
     "data": {
      "application/vnd.jupyter.widget-view+json": {
       "model_id": "a8ef63b8c92048028ba78ec3c2834d36",
       "version_major": 2,
       "version_minor": 0
      },
      "text/plain": [
       "tokenizer.json: 0.00B [00:00, ?B/s]"
      ]
     },
     "metadata": {},
     "output_type": "display_data"
    },
    {
     "data": {
      "application/vnd.jupyter.widget-view+json": {
       "model_id": "2642cf68f39d4c618983c187fd0c58b5",
       "version_major": 2,
       "version_minor": 0
      },
      "text/plain": [
       "special_tokens_map.json:   0%|          | 0.00/112 [00:00<?, ?B/s]"
      ]
     },
     "metadata": {},
     "output_type": "display_data"
    },
    {
     "data": {
      "application/vnd.jupyter.widget-view+json": {
       "model_id": "739ff903ff2e49f1ba75fd8880c84a8f",
       "version_major": 2,
       "version_minor": 0
      },
      "text/plain": [
       "config.json:   0%|          | 0.00/190 [00:00<?, ?B/s]"
      ]
     },
     "metadata": {},
     "output_type": "display_data"
    },
    {
     "name": "stdout",
     "output_type": "stream",
     "text": [
      "BART similarity: 0.5535373687744141\n",
      "PEGASUS similarity: 0.7865666747093201\n",
      "T5 similarity: 0.5155146718025208\n"
     ]
    }
   ],
   "source": [
    "#Bert cosine similarity\n",
    "# φορτώνουμε sentence-BERT\n",
    "model = SentenceTransformer('all-MiniLM-L6-v2')\n",
    "\n",
    "# embeddings\n",
    "orig_emb = model.encode(concatinated_texts, convert_to_tensor=True)\n",
    "bart_emb = model.encode(paraphrase_bart_large, convert_to_tensor=True)\n",
    "pegasus_emb = model.encode(paraphrase_pegasus, convert_to_tensor=True)\n",
    "t5_emb = model.encode(paraphrase_t5_base, convert_to_tensor=True)\n",
    "\n",
    "# cosine similarities\n",
    "print(\"BART similarity:\", util.cos_sim(orig_emb, bart_emb).item())\n",
    "print(\"PEGASUS similarity:\", util.cos_sim(orig_emb, pegasus_emb).item())\n",
    "print(\"T5 similarity:\", util.cos_sim(orig_emb, t5_emb).item())"
   ]
  },
  {
   "cell_type": "code",
   "execution_count": 26,
   "id": "917ebe28-8580-43a6-8dab-fd0222d86e61",
   "metadata": {},
   "outputs": [
    {
     "name": "stdout",
     "output_type": "stream",
     "text": [
      "Cosine similarity Bart-lagre(custom ): 0.5025424245744108\n",
      "Cosine similarity t5(custom ): 0.5819206746830882\n",
      "Cosine similarity pegasus(custom ): 0.7917967762194192\n"
     ]
    }
   ],
   "source": [
    "#custom_nlp_workflow\n",
    "vectorizer = TfidfVectorizer()\n",
    "bart = vectorizer.fit_transform([concatinated_texts, paraphrase_bart_large])\n",
    "t5= vectorizer.fit_transform([concatinated_texts, paraphrase_t5_base])\n",
    "pegasus= vectorizer.fit_transform([concatinated_texts, paraphrase_pegasus])\n",
    "\n",
    "# Υπολογισμός cosine similarity\n",
    "sim_score_bart = cosine_similarity(bart[0], bart[1])[0][0]\n",
    "sim_score_t5 = cosine_similarity(t5[0], t5[1])[0][0]\n",
    "sim_score_pegasus = cosine_similarity(pegasus[0], pegasus[1])[0][0]\n",
    "print(\"Cosine similarity Bart-lagre(custom ):\", sim_score_bart)\n",
    "print(\"Cosine similarity t5(custom ):\", sim_score_t5)\n",
    "print(\"Cosine similarity pegasus(custom ):\", sim_score_pegasus)\n"
   ]
  },
  {
   "cell_type": "code",
   "execution_count": 36,
   "id": "dc01843c-7bca-44ed-b613-57ba8d3bb5b5",
   "metadata": {},
   "outputs": [
    {
     "data": {
      "image/png": "[encoded data removed]",
      "text/plain": [
       "<Figure size 1000x800 with 1 Axes>"
      ]
     },
     "metadata": {},
     "output_type": "display_data"
    }
   ],
   "source": [
    "#visualization\n",
    "keywords = [\"dragon\", \"boat\", \"festival\", \"professor\", \"Springer\", \"paper\", \"acceptance\", \"submission\"]\n",
    "def get_sentence_vectors(text, model, selected_words):\n",
    "    text_words = [w.lower() for w in text.split()]\n",
    "    vectors = []\n",
    "    labels = []\n",
    "    for w in selected_words:\n",
    "        if w in text_words and w in model:\n",
    "            vectors.append(get_vector(w, model))\n",
    "            labels.append(w)\n",
    "    return np.array(vectors), labels\n",
    "\n",
    "def filter_nonzero_vectors(vectors, labels):\n",
    "    if vectors.size == 0:\n",
    "        return np.empty((0, 100)), []\n",
    "    filtered_vectors = []\n",
    "    filtered_labels = []\n",
    "    for vec, label in zip(vectors, labels):\n",
    "        if np.any(vec):  # κρατά μόνο αν δεν είναι όλα 0\n",
    "            filtered_vectors.append(vec)\n",
    "            filtered_labels.append(label)\n",
    "    return np.array(filtered_vectors), filtered_labels\n",
    "#Λήψη vectors για κάθε pipeline \n",
    "orig_vectors, orig_labels = get_sentence_vectors(concatinated_texts, glove, keywords)\n",
    "bart_vectors, bart_labels = get_sentence_vectors(paraphrase_bart_large, glove, keywords)\n",
    "peg_vectors, peg_labels = get_sentence_vectors(paraphrase_pegasus, glove, keywords)\n",
    "t5_vectors, t5_labels = get_sentence_vectors(paraphrase_t5_base, glove, keywords)\n",
    "\n",
    "orig_vectors, orig_labels = filter_nonzero_vectors(orig_vectors, orig_labels)\n",
    "bart_vectors, bart_labels = filter_nonzero_vectors(bart_vectors, bart_labels)\n",
    "peg_vectors, peg_labels = filter_nonzero_vectors(peg_vectors, peg_labels)\n",
    "t5_vectors, t5_labels = filter_nonzero_vectors(t5_vectors, t5_labels)\n",
    "# --- 6. Συνένωση όλων για t-SNE ---\n",
    "all_vectors = np.vstack([orig_vectors, bart_vectors, peg_vectors, t5_vectors])\n",
    "all_labels = orig_labels + bart_labels + peg_labels + t5_labels\n",
    "groups = ([\"Original\"]*len(orig_labels) + \n",
    "          [\"BART\"]*len(bart_labels) + \n",
    "          [\"PEGASUS\"]*len(peg_labels) + \n",
    "          [\"T5\"]*len(t5_labels))\n",
    "\n",
    "# --- 7. t-SNE ---\n",
    "tsne = TSNE(n_components=2, random_state=42, perplexity=5)\n",
    "vectors_2d = tsne.fit_transform(all_vectors)\n",
    "# --- 8. Plot ---\n",
    "plt.figure(figsize=(10,8))\n",
    "colors = {\"Original\":\"blue\", \"BART\":\"red\", \"PEGASUS\":\"green\", \"T5\":\"orange\"}\n",
    "\n",
    "for i, label in enumerate(all_labels):\n",
    "    x, y = vectors_2d[i]\n",
    "    plt.scatter(x, y, color=colors[groups[i]])\n",
    "    plt.text(x+0.5, y+0.5, label, fontsize=9)\n",
    "\n",
    "plt.title(\"t-SNE visualization of word embeddings (Original vs Pipelines)\")\n",
    "plt.show()"
   ]
  },
  {
   "cell_type": "code",
   "execution_count": null,
   "id": "63775a5c-fd3e-4666-910c-b7c134471265",
   "metadata": {},
   "outputs": [],
   "source": []
  }
 ],
 "metadata": {
  "kernelspec": {
   "display_name": "Python 3 (ipykernel)",
   "language": "python",
   "name": "python3"
  },
  "language_info": {
   "codemirror_mode": {
    "name": "ipython",
    "version": 3
   },
   "file_extension": ".py",
   "mimetype": "text/x-python",
   "name": "python",
   "nbconvert_exporter": "python",
   "pygments_lexer": "ipython3",
   "version": "3.12.4"
  }
 },
 "nbformat": 4,
 "nbformat_minor": 5
}
